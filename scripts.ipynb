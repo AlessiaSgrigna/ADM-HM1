{
 "cells": [
  {
   "cell_type": "markdown",
   "id": "88bda575",
   "metadata": {},
   "source": [
    "# Problem 1\n",
    "79 exercises out of 91 exercises completed without using the solutions.\n",
    "In the remaining 12 exercises I helped myself with the solutions and the \"Discussions\" to write the code. The exercises are the following:\n",
    "\n",
    "\"Finding the Percentage\", \"Merge the Tools!\", \"DefaultDict Tutorial\", \"Collections.OrderedDict\", \"Word Order\", \"Pilin Up!\", \"Time Delta\", \"HTML Parser - Part 1\", \"HTML Parser - Part 2\", \"Detect HTML Tags, Attributes and Attribute Values\", \"XML 1- Find the Score\", \"XML 2 - Find the Maximum Depth\"."
   ]
  },
  {
   "cell_type": "markdown",
   "id": "c657a133",
   "metadata": {},
   "source": [
    "## Introduction\n",
    "https://www.hackerrank.com/domains/python/py-introduction"
   ]
  },
  {
   "cell_type": "markdown",
   "id": "8dc22942",
   "metadata": {},
   "source": [
    "###  Exercise 1: Say \"Hello, World!\" with Python"
   ]
  },
  {
   "cell_type": "code",
   "execution_count": null,
   "id": "97066e72",
   "metadata": {},
   "outputs": [],
   "source": [
    "print(\"Hello, World!\")"
   ]
  },
  {
   "cell_type": "markdown",
   "id": "ef562853",
   "metadata": {},
   "source": [
    "### Exercise 2: Pyhton If-Else"
   ]
  },
  {
   "cell_type": "code",
   "execution_count": null,
   "id": "c1c59cc4",
   "metadata": {},
   "outputs": [],
   "source": [
    "import math\n",
    "import os\n",
    "import random\n",
    "import re\n",
    "import sys\n",
    "\n",
    "if __name__ == '__main__':\n",
    "    n = int(input().strip())\n",
    "if n%2 == 1:\n",
    "    print('Weird')\n",
    "elif n%2==0 and 2<=n<=5:\n",
    "    print('Not Weird')\n",
    "elif n%2==0 and 6<=n<=20:\n",
    "    print('Weird')\n",
    "else:\n",
    "    print('Not Weird')"
   ]
  },
  {
   "cell_type": "markdown",
   "id": "2fb5dfae",
   "metadata": {},
   "source": [
    "### Exercise 3: Arithmetic Operators"
   ]
  },
  {
   "cell_type": "code",
   "execution_count": null,
   "id": "ea00efb6",
   "metadata": {},
   "outputs": [],
   "source": [
    "if __name__ == '__main__':\n",
    "    a = int(input())\n",
    "    b = int(input())\n",
    "    print(a+b)\n",
    "    print(a-b)\n",
    "    print(a*b)"
   ]
  },
  {
   "cell_type": "markdown",
   "id": "7d19d215",
   "metadata": {},
   "source": [
    "### Exercise 4: Pyhton Division"
   ]
  },
  {
   "cell_type": "code",
   "execution_count": null,
   "id": "e298c289",
   "metadata": {},
   "outputs": [],
   "source": [
    "if __name__ == '__main__':\n",
    "    a = int(input())\n",
    "    b = int(input())\n",
    "    print(a//b)\n",
    "    print(a/b)"
   ]
  },
  {
   "cell_type": "markdown",
   "id": "9b593204",
   "metadata": {},
   "source": [
    "### Exercise 5: Loops"
   ]
  },
  {
   "cell_type": "code",
   "execution_count": null,
   "id": "4db0a35a",
   "metadata": {},
   "outputs": [],
   "source": [
    "if __name__ == '__main__':\n",
    "    n = int(input())\n",
    "    for i in range (n):\n",
    "        print(i*i)"
   ]
  },
  {
   "cell_type": "markdown",
   "id": "e96bcf34",
   "metadata": {},
   "source": [
    "### Exercise 6: Write a function"
   ]
  },
  {
   "cell_type": "code",
   "execution_count": null,
   "id": "d282d621",
   "metadata": {},
   "outputs": [],
   "source": [
    "def is_leap(year):\n",
    "    leap = False\n",
    "    \n",
    "    if year%4==0:\n",
    "        if year%100==0:\n",
    "            if year%400==0:\n",
    "                leap=True\n",
    "            else:\n",
    "                leap=False\n",
    "        else:\n",
    "            leap=True\n",
    "    else:\n",
    "        leap=False\n",
    "    return leap\n",
    "\n",
    "year = int(input())\n",
    "print(is_leap(year))"
   ]
  },
  {
   "cell_type": "markdown",
   "id": "3c5a0377",
   "metadata": {},
   "source": [
    "### Exercise 7: Print Function"
   ]
  },
  {
   "cell_type": "code",
   "execution_count": null,
   "id": "17b30a85",
   "metadata": {},
   "outputs": [],
   "source": [
    "if __name__ == '__main__':\n",
    "    n = int(input())\n",
    "    for i in range(1,n+1):\n",
    "        print(i,end='')"
   ]
  },
  {
   "cell_type": "markdown",
   "id": "36218f5e",
   "metadata": {},
   "source": [
    "## Data types\n",
    "https://www.hackerrank.com/domains/python/py-basic-data-types"
   ]
  },
  {
   "cell_type": "markdown",
   "id": "effaa19e",
   "metadata": {},
   "source": [
    "### Exercise 1: List Comprehensions"
   ]
  },
  {
   "cell_type": "code",
   "execution_count": null,
   "id": "971de8a6",
   "metadata": {},
   "outputs": [],
   "source": [
    "if __name__ == '__main__':\n",
    "    x = int(input())\n",
    "    y = int(input())\n",
    "    z = int(input())\n",
    "    n = int(input())\n",
    "        \n",
    "    list = [[i,j,k] for i in range (x+1) for j in range (y+1) for k in range (z+1) if i+j+k!=n]\n",
    "    print(list)"
   ]
  },
  {
   "cell_type": "markdown",
   "id": "25b8e16a",
   "metadata": {},
   "source": [
    "### Exercise 2: Find the Runner-Up Score!"
   ]
  },
  {
   "cell_type": "code",
   "execution_count": null,
   "id": "65c7e362",
   "metadata": {},
   "outputs": [],
   "source": [
    "if __name__ == '__main__':\n",
    "    n = int(input())\n",
    "    arr = map(int, input().split())\n",
    "          \n",
    "    a = (sorted(set(arr)))\n",
    "    print (a[-2])"
   ]
  },
  {
   "cell_type": "markdown",
   "id": "351e80ee",
   "metadata": {},
   "source": [
    "### Exercise 3: Nested Lists"
   ]
  },
  {
   "cell_type": "code",
   "execution_count": null,
   "id": "1f46def6",
   "metadata": {},
   "outputs": [],
   "source": [
    "if __name__ == '__main__':\n",
    "    students=[]\n",
    "    scores=[]\n",
    "    \n",
    "    for _ in range(int(input())):\n",
    "        name = input()\n",
    "        score = float(input())\n",
    "        student = [name,score]\n",
    "        students.append(student)\n",
    "        scores.append(score)\n",
    "    second_minscore=sorted(set(scores))[1]\n",
    "    for a,b in sorted(students):\n",
    "        if b==second_minscore:\n",
    "            print(a)"
   ]
  },
  {
   "cell_type": "markdown",
   "id": "9d07285f",
   "metadata": {},
   "source": [
    "### Exercise 4: Finding the percentage\n",
    "I used the solutions to write the code."
   ]
  },
  {
   "cell_type": "code",
   "execution_count": null,
   "id": "224ebaa2",
   "metadata": {},
   "outputs": [],
   "source": [
    "if __name__ == '__main__':\n",
    "    n = int(input())\n",
    "    student_marks = {}\n",
    "    for _ in range(n):\n",
    "        name, *line = input().split()\n",
    "        scores = list(map(float, line))\n",
    "        student_marks[name] = scores\n",
    "    query_name = input()\n",
    "    \n",
    "    query_scores = student_marks[query_name]\n",
    "    print(\"{0:.2f}\".format(sum(query_scores)/(len(query_scores))))"
   ]
  },
  {
   "cell_type": "markdown",
   "id": "344f227c",
   "metadata": {},
   "source": [
    "### Exercise 5: Lists"
   ]
  },
  {
   "cell_type": "code",
   "execution_count": null,
   "id": "2e716941",
   "metadata": {},
   "outputs": [],
   "source": [
    "if __name__ == '__main__':\n",
    "    N = int(input())\n",
    "    \n",
    "    lis=[]\n",
    "    for i in range (N):\n",
    "        cmd=input().split()\n",
    "        if cmd[0]==\"insert\":\n",
    "            lis.insert(int(cmd[1]),int(cmd[2]))\n",
    "        elif cmd[0]==\"append\":\n",
    "            lis.append(int(cmd[1]))\n",
    "        elif cmd[0]==\"pop\":\n",
    "            lis.pop()\n",
    "        elif cmd[0]==\"print\":\n",
    "            print(lis)\n",
    "        elif cmd[0]==\"remove\":\n",
    "            lis.remove(int(cmd[1]))\n",
    "        elif cmd[0]==\"sort\":\n",
    "            lis.sort()\n",
    "        else:\n",
    "            lis.reverse()"
   ]
  },
  {
   "cell_type": "markdown",
   "id": "3836c336",
   "metadata": {},
   "source": [
    "### Exercise 6: Tuples"
   ]
  },
  {
   "cell_type": "code",
   "execution_count": null,
   "id": "cd2cc0c9",
   "metadata": {},
   "outputs": [],
   "source": [
    "if __name__ == '__main__':\n",
    "    n = int(input())\n",
    "    integer_list = map(int, input().split())\n",
    "    \n",
    "    t=tuple(integer_list)\n",
    "    print(hash(t))"
   ]
  },
  {
   "cell_type": "markdown",
   "id": "460043d4",
   "metadata": {},
   "source": [
    "## Strings\n",
    "https://www.hackerrank.com/domains/python/py-strings"
   ]
  },
  {
   "cell_type": "markdown",
   "id": "250c54a4",
   "metadata": {},
   "source": [
    "### Exercise 1: sWAP cASE"
   ]
  },
  {
   "cell_type": "code",
   "execution_count": null,
   "id": "5fe1dd56",
   "metadata": {},
   "outputs": [],
   "source": [
    "def swap_case(s):\n",
    "    return s.swapcase()\n",
    "\n",
    "if __name__ == '__main__':\n",
    "    s = input()\n",
    "    result = swap_case(s)\n",
    "    print(result)"
   ]
  },
  {
   "cell_type": "markdown",
   "id": "8c5be565",
   "metadata": {},
   "source": [
    "### Exercise 2: String Split and Join"
   ]
  },
  {
   "cell_type": "code",
   "execution_count": null,
   "id": "ce223ef8",
   "metadata": {},
   "outputs": [],
   "source": [
    "def split_and_join(line):\n",
    "    line=line.split(\" \")\n",
    "    line=\"-\".join(line)\n",
    "    return line\n",
    "\n",
    "if __name__ == '__main__':\n",
    "    line = input()\n",
    "    result = split_and_join(line)\n",
    "    print(result)"
   ]
  },
  {
   "cell_type": "markdown",
   "id": "9f60eb3d",
   "metadata": {},
   "source": [
    "### Exercise 3: What's Your Name?"
   ]
  },
  {
   "cell_type": "code",
   "execution_count": null,
   "id": "8294cb45",
   "metadata": {},
   "outputs": [],
   "source": [
    "def print_full_name(first, last):\n",
    "    print(\"Hello {} {}! You just delved into python.\".format(first,last))\n",
    "    \n",
    "if __name__ == '__main__':\n",
    "    first_name = input()\n",
    "    last_name = input()\n",
    "    print_full_name(first_name, last_name)"
   ]
  },
  {
   "cell_type": "markdown",
   "id": "395ec215",
   "metadata": {},
   "source": [
    "### Exercise 4: Mutations"
   ]
  },
  {
   "cell_type": "code",
   "execution_count": null,
   "id": "5faffbd4",
   "metadata": {},
   "outputs": [],
   "source": [
    "def mutate_string(string, position, character):\n",
    "    l=list(string)\n",
    "    l[position]=character\n",
    "    string=''.join(l)\n",
    "    return string\n",
    "\n",
    "if __name__ == '__main__':\n",
    "    s = input()\n",
    "    i, c = input().split()\n",
    "    s_new = mutate_string(s, int(i), c)\n",
    "    print(s_new)"
   ]
  },
  {
   "cell_type": "markdown",
   "id": "5e922918",
   "metadata": {},
   "source": [
    "### Exercise 5: Find a string"
   ]
  },
  {
   "cell_type": "code",
   "execution_count": null,
   "id": "0b223073",
   "metadata": {},
   "outputs": [],
   "source": [
    "def count_substring(string, sub_string):\n",
    "    count=0\n",
    "    for i in range(0,len(string)-len(sub_string)+1):\n",
    "        if string[i:i+len(sub_string)]==sub_string:\n",
    "            count+=1\n",
    "        else:\n",
    "            continue\n",
    "    return count\n",
    "\n",
    "if __name__ == '__main__':\n",
    "    string = input().strip()\n",
    "    sub_string = input().strip()\n",
    "    \n",
    "    count = count_substring(string, sub_string)\n",
    "    print(count)"
   ]
  },
  {
   "cell_type": "markdown",
   "id": "0dee0fb4",
   "metadata": {},
   "source": [
    "### Exercise 6: String Validators"
   ]
  },
  {
   "cell_type": "code",
   "execution_count": null,
   "id": "c30553d7",
   "metadata": {},
   "outputs": [],
   "source": [
    "if __name__ == '__main__':\n",
    "    s = input()\n",
    "    \n",
    "    print(any(c.isalnum() for c in s))\n",
    "    print(any(c.isalpha() for c in s))\n",
    "    print(any(c.isdigit() for c in s))\n",
    "    print(any(c.islower() for c in s))\n",
    "    print(any(c.isupper() for c in s))"
   ]
  },
  {
   "cell_type": "markdown",
   "id": "0ef7639a",
   "metadata": {},
   "source": [
    "### Exercise 7: Text Alignment"
   ]
  },
  {
   "cell_type": "code",
   "execution_count": null,
   "id": "f83ad3d8",
   "metadata": {},
   "outputs": [],
   "source": [
    "#Replace all ______ with rjust, ljust or center. \n",
    "thickness = int(input()) #This must be an odd number\n",
    "c = 'H'\n",
    "\n",
    "#Top Cone\n",
    "for i in range(thickness):\n",
    "    print((c*i).rjust(thickness-1)+c+(c*i).ljust(thickness-1))\n",
    "\n",
    "#Top Pillars\n",
    "for i in range(thickness+1):\n",
    "    print((c*thickness).center(thickness*2)+(c*thickness).center(thickness*6))\n",
    "\n",
    "#Middle Belt\n",
    "for i in range((thickness+1)//2):\n",
    "    print((c*thickness*5).center(thickness*6))    \n",
    "\n",
    "#Bottom Pillars\n",
    "for i in range(thickness+1):\n",
    "    print((c*thickness).center(thickness*2)+(c*thickness).center(thickness*6))    \n",
    "\n",
    "#Bottom Cone\n",
    "for i in range(thickness):\n",
    "    print(((c*(thickness-i-1)).rjust(thickness)+c+(c*(thickness-i-1)).ljust(thickness)).rjust(thickness*6))"
   ]
  },
  {
   "cell_type": "markdown",
   "id": "de0954f9",
   "metadata": {},
   "source": [
    "### Exercise 8: Text Wrap"
   ]
  },
  {
   "cell_type": "code",
   "execution_count": null,
   "id": "6344b9d2",
   "metadata": {},
   "outputs": [],
   "source": [
    "import textwrap\n",
    "\n",
    "def wrap(string, max_width):\n",
    "    return textwrap.fill(string,max_width)\n",
    "    \n",
    "\n",
    "if __name__ == '__main__':\n",
    "    string, max_width = input(), int(input())\n",
    "    result = wrap(string, max_width)\n",
    "    print(result)"
   ]
  },
  {
   "cell_type": "markdown",
   "id": "159a2e91",
   "metadata": {},
   "source": [
    "### Exercise 9: Designer Door Mat"
   ]
  },
  {
   "cell_type": "code",
   "execution_count": null,
   "id": "6119ad4b",
   "metadata": {},
   "outputs": [],
   "source": [
    "N,M = map(int,input().split())\n",
    "for i in range (1,N,2):\n",
    "    print((i*'.|.').center(M,'-'))\n",
    "print('WELCOME'.center(M,'-'))\n",
    "for i in range (N-2,-1,-2):\n",
    "    print((i*'.|.').center(M,'-'))"
   ]
  },
  {
   "cell_type": "markdown",
   "id": "66de9356",
   "metadata": {},
   "source": [
    "### Exercise 10: String Formatting"
   ]
  },
  {
   "cell_type": "code",
   "execution_count": null,
   "id": "5bf6661b",
   "metadata": {},
   "outputs": [],
   "source": [
    "def print_formatted(number):\n",
    "    # your code goes here\n",
    "    width=len(bin(number)[2:])\n",
    "    for i in range (1,number+1):\n",
    "        deci=str(i)\n",
    "        octa=oct(i)[2:]\n",
    "        hexa=hex(i)[2:].upper()\n",
    "        bina=bin(i)[2:]\n",
    "        print(deci.rjust(width),octa.rjust(width),hexa.rjust(width),bina.rjust(width))\n",
    "         \n",
    "if __name__ == '__main__':\n",
    "    n = int(input())\n",
    "    print_formatted(n)"
   ]
  },
  {
   "cell_type": "markdown",
   "id": "5063504f",
   "metadata": {},
   "source": [
    "### Exercise 11: Alphabet Rangoli"
   ]
  },
  {
   "cell_type": "code",
   "execution_count": null,
   "id": "73bada3c",
   "metadata": {},
   "outputs": [],
   "source": [
    "def print_rangoli(size):\n",
    "    # your code goes here\n",
    "    alpha='abcdefghijklmnopqrstuvwxyz'\n",
    "    data=[alpha[i] for i in range(size)]\n",
    "    items=list(range(size))\n",
    "    items=items[:-1]+items[::-1]\n",
    "    for i in items:\n",
    "        temp=data[-(i+1):]\n",
    "        row=temp[::-1]+temp[1:]\n",
    "        print('-'.join(row).center(n*4-3,'-'))\n",
    "        \n",
    "if __name__ == '__main__':\n",
    "    n = int(input())\n",
    "    print_rangoli(n)"
   ]
  },
  {
   "cell_type": "markdown",
   "id": "775805a4",
   "metadata": {},
   "source": [
    "### Exercise 12: Capitalize!"
   ]
  },
  {
   "cell_type": "code",
   "execution_count": null,
   "id": "95547236",
   "metadata": {},
   "outputs": [],
   "source": [
    "import math\n",
    "import os\n",
    "import random\n",
    "import re\n",
    "import sys\n",
    "\n",
    "def solve(s):\n",
    "    words=s.split(\" \")\n",
    "    cap_words=[w.capitalize() for w in words]\n",
    "    return(' '.join(cap_words))\n",
    "    \n",
    "if __name__ == '__main__':\n",
    "    fptr = open(os.environ['OUTPUT_PATH'], 'w')\n",
    "    s = input()\n",
    "    result = solve(s)\n",
    "    fptr.write(result + '\\n')\n",
    "    fptr.close()"
   ]
  },
  {
   "cell_type": "markdown",
   "id": "672af5f6",
   "metadata": {},
   "source": [
    "### Exercise 13: The Minion Game"
   ]
  },
  {
   "cell_type": "code",
   "execution_count": null,
   "id": "4cb0b09f",
   "metadata": {},
   "outputs": [],
   "source": [
    "def minion_game(string):\n",
    "    vowel_list=['A','E','I','O','U']\n",
    "    s=len(string)\n",
    "    stuart_point=0\n",
    "    kevin_point=0\n",
    "    for i in range (s):\n",
    "        if string[i] in vowel_list:\n",
    "            kevin_point += s - i\n",
    "        else:\n",
    "            stuart_point += s - i\n",
    "    if stuart_point == kevin_point:\n",
    "        print('Draw')\n",
    "    elif kevin_point > stuart_point:\n",
    "        print('Kevin',kevin_point)\n",
    "    else:\n",
    "        print('Stuart',stuart_point)\n",
    "    \n",
    "if __name__ == '__main__':\n",
    "    s = input()\n",
    "    minion_game(s)"
   ]
  },
  {
   "cell_type": "markdown",
   "id": "2c5901c8",
   "metadata": {},
   "source": [
    "### Exercise 14: Merge the Tools!\n",
    "I used the soltions to write the code."
   ]
  },
  {
   "cell_type": "code",
   "execution_count": null,
   "id": "1d60ff17",
   "metadata": {},
   "outputs": [],
   "source": [
    "def merge_the_tools(string, k):\n",
    "    for i in range (0,len(string),k):\n",
    "        line=string[i:i+k]\n",
    "        seen=set()\n",
    "        for i in line:\n",
    "            if i not in seen:\n",
    "                print(i,end=\"\")\n",
    "                seen.add(i)\n",
    "        print()\n",
    "    \n",
    "if __name__ == '__main__':\n",
    "    string, k = input(), int(input())\n",
    "    merge_the_tools(string, k)"
   ]
  },
  {
   "cell_type": "markdown",
   "id": "7075e25b",
   "metadata": {},
   "source": [
    "## Sets\n",
    "https://www.hackerrank.com/domains/python/py-sets"
   ]
  },
  {
   "cell_type": "markdown",
   "id": "2e39d8ce",
   "metadata": {},
   "source": [
    "### Exercise 1: Introduction to Sets"
   ]
  },
  {
   "cell_type": "code",
   "execution_count": null,
   "id": "1e30f8db",
   "metadata": {},
   "outputs": [],
   "source": [
    "def average(array):\n",
    "    array=set(array)\n",
    "    return sum(array)/len(array)\n",
    "    \n",
    "if __name__ == '__main__':\n",
    "    n = int(input())\n",
    "    arr = list(map(int, input().split()))\n",
    "    result = average(arr)\n",
    "    print(result)"
   ]
  },
  {
   "cell_type": "markdown",
   "id": "f10a8a1a",
   "metadata": {},
   "source": [
    "### Exercise 2: No Idea!"
   ]
  },
  {
   "cell_type": "code",
   "execution_count": null,
   "id": "c7accf5b",
   "metadata": {},
   "outputs": [],
   "source": [
    "n,m=map(int,input(\"\").split(\" \"))\n",
    "list_n=list(map(int,input(\"\").split(\" \")))\n",
    "set_A=set(int(x) for x in input(\"\").split(\" \"))\n",
    "set_B=set(int(x) for x in input(\"\").split(\" \"))\n",
    "hap=0\n",
    "for i in list_n:\n",
    "    if i in set_A:\n",
    "        hap+=1\n",
    "    elif i in set_B:\n",
    "        hap-=1\n",
    "    else:\n",
    "        hap=hap\n",
    "print(hap)"
   ]
  },
  {
   "cell_type": "markdown",
   "id": "78f85b2f",
   "metadata": {},
   "source": [
    "### Exercise 3: Symmetric Difference"
   ]
  },
  {
   "cell_type": "code",
   "execution_count": null,
   "id": "0c5d566c",
   "metadata": {},
   "outputs": [],
   "source": [
    "M=map(int,input())\n",
    "a=set(map(int,input(\"\").split(\" \")))\n",
    "N=map(int,input())\n",
    "b=set(map(int,input(\"\").split(\" \")))\n",
    "a_diff=a.difference(b)\n",
    "b_diff=b.difference(a)\n",
    "for i in sorted(a_diff.union(b_diff)):\n",
    "    print(i)"
   ]
  },
  {
   "cell_type": "markdown",
   "id": "11af84b2",
   "metadata": {},
   "source": [
    "### Exercise 4: Set .add()"
   ]
  },
  {
   "cell_type": "code",
   "execution_count": null,
   "id": "b7a0a165",
   "metadata": {},
   "outputs": [],
   "source": [
    "N=int(input())\n",
    "s=set()\n",
    "for i in range (N):\n",
    "    country=input()\n",
    "    s.add(country)\n",
    "print(len(s))"
   ]
  },
  {
   "cell_type": "markdown",
   "id": "8d1124f2",
   "metadata": {},
   "source": [
    "### Exercise 5: Set .discard(), .remove() & .pop()"
   ]
  },
  {
   "cell_type": "code",
   "execution_count": null,
   "id": "8c004f30",
   "metadata": {},
   "outputs": [],
   "source": [
    "n = int(input())\n",
    "s = set(map(int, input().split()))\n",
    "\n",
    "m=int(input())\n",
    "for i in range (m):\n",
    "    x=list(input().split(\" \"))\n",
    "    if x[0]==\"pop\":\n",
    "        s.pop()\n",
    "    elif x[0]==\"remove\":\n",
    "        j=int(x[1])\n",
    "        s.remove(j)\n",
    "    elif x[0]==\"discard\":\n",
    "        j=int(x[1])\n",
    "        s.discard(j)\n",
    "print(sum(s))"
   ]
  },
  {
   "cell_type": "markdown",
   "id": "b0c62851",
   "metadata": {},
   "source": [
    "### Exercise 6: Set .union() Operation"
   ]
  },
  {
   "cell_type": "code",
   "execution_count": null,
   "id": "da2ad29d",
   "metadata": {},
   "outputs": [],
   "source": [
    "n=int(input())\n",
    "set_n=set(map(int,input(\"\").split(\" \")))\n",
    "b=int(input())\n",
    "set_b=set(map(int,input(\"\").split(\" \")))\n",
    "set_union=set_n.union(set_b)\n",
    "print(len(set_union))"
   ]
  },
  {
   "cell_type": "markdown",
   "id": "45f05eee",
   "metadata": {},
   "source": [
    "### Exercise 7: Set .intersection() Operation"
   ]
  },
  {
   "cell_type": "code",
   "execution_count": null,
   "id": "d42d8a69",
   "metadata": {},
   "outputs": [],
   "source": [
    "n=int(input())\n",
    "set_n=set(map(int,input(\"\").split(\" \")))\n",
    "b=int(input())\n",
    "set_b=set(map(int,input(\"\").split(\" \")))\n",
    "set_int=set_n.intersection(set_b)\n",
    "print(len(set_int))"
   ]
  },
  {
   "cell_type": "markdown",
   "id": "4ecf5b11",
   "metadata": {},
   "source": [
    "### Exercise 8: Set .difference() Operation"
   ]
  },
  {
   "cell_type": "code",
   "execution_count": null,
   "id": "f3004106",
   "metadata": {},
   "outputs": [],
   "source": [
    "n=int(input())\n",
    "set_n=set(map(int,input(\"\").split(\" \")))\n",
    "b=int(input())\n",
    "set_b=set(map(int,input(\"\").split(\" \")))\n",
    "set_diff=set_n.difference(set_b)\n",
    "print(len(set_diff))"
   ]
  },
  {
   "cell_type": "markdown",
   "id": "fb2a23a9",
   "metadata": {},
   "source": [
    "### Exercise 9: Set .symmetric_difference() Operation"
   ]
  },
  {
   "cell_type": "code",
   "execution_count": null,
   "id": "8116eba0",
   "metadata": {},
   "outputs": [],
   "source": [
    "n=int(input())\n",
    "set_n=set(map(int,input(\"\").split(\" \")))\n",
    "b=int(input())\n",
    "set_b=set(map(int,input(\"\").split(\" \")))\n",
    "set_simdiff=set_n^set_b\n",
    "print(len(set_simdiff))"
   ]
  },
  {
   "cell_type": "markdown",
   "id": "14d26d62",
   "metadata": {},
   "source": [
    "### Exercise 10: Set Mutations"
   ]
  },
  {
   "cell_type": "code",
   "execution_count": null,
   "id": "9c85e32a",
   "metadata": {},
   "outputs": [],
   "source": [
    "n=int(input())\n",
    "A=set(map(int,input(\"\").split(\" \")))\n",
    "N=int(input())\n",
    "\n",
    "for i in range (N):\n",
    "    c=input().split()\n",
    "    s=set(map(int,input().split()))\n",
    "    if (c[0]=='update'):\n",
    "        A.update(s)\n",
    "    elif (c[0]=='intersection_update'):\n",
    "        A.intersection_update(s)\n",
    "    elif (c[0]=='difference_update'):\n",
    "        A.difference_update(s)\n",
    "    elif (c[0]=='symmetric_difference_update'):\n",
    "        A.symmetric_difference_update(s)\n",
    "print(sum(A))"
   ]
  },
  {
   "cell_type": "markdown",
   "id": "f77cdf5b",
   "metadata": {},
   "source": [
    "### Exercise 11: The Captain's Room"
   ]
  },
  {
   "cell_type": "code",
   "execution_count": null,
   "id": "8a859b19",
   "metadata": {},
   "outputs": [],
   "source": [
    "k=int(input())\n",
    "room_number=list(map(int,input().split()))\n",
    "room_set=set(room_number)\n",
    "\n",
    "cap_room=(((sum(room_set)*k)-sum(room_number))//(k-1))\n",
    "print(cap_room)"
   ]
  },
  {
   "cell_type": "markdown",
   "id": "2ada1686",
   "metadata": {},
   "source": [
    "### Exercise 12: Check Subset"
   ]
  },
  {
   "cell_type": "code",
   "execution_count": null,
   "id": "40f73562",
   "metadata": {},
   "outputs": [],
   "source": [
    "T=int(input())\n",
    "for i in range (T):\n",
    "    a=int(input())\n",
    "    A=set(map(int,input().split()))\n",
    "    b=int(input())\n",
    "    B=set(map(int,input().split()))\n",
    "    if (len(A-B)==0):\n",
    "        print('True')\n",
    "    else:\n",
    "        print('False')"
   ]
  },
  {
   "cell_type": "markdown",
   "id": "089cf661",
   "metadata": {},
   "source": [
    "### Exercise 14: Check Strict Subset"
   ]
  },
  {
   "cell_type": "code",
   "execution_count": null,
   "id": "89f804a7",
   "metadata": {},
   "outputs": [],
   "source": [
    "A=set(input().split())\n",
    "n=int(input())\n",
    "count=0\n",
    "value=0\n",
    "for i in range (n):\n",
    "    S=set(input().split())\n",
    "    if A.issuperset(S):\n",
    "        count+=1\n",
    "    else:\n",
    "        value+=1\n",
    "if (value!=0):\n",
    "    print('False')\n",
    "else:\n",
    "    print('True')"
   ]
  },
  {
   "cell_type": "markdown",
   "id": "8120c9a4",
   "metadata": {},
   "source": [
    "## Collections\n",
    "https://www.hackerrank.com/domains/python/py-collections"
   ]
  },
  {
   "cell_type": "markdown",
   "id": "9c9f5821",
   "metadata": {},
   "source": [
    "### Exercise 1: collections.Counter()"
   ]
  },
  {
   "cell_type": "code",
   "execution_count": null,
   "id": "bb81666f",
   "metadata": {},
   "outputs": [],
   "source": [
    "from collections import Counter\n",
    "\n",
    "X=int(input())\n",
    "s=list(map(int,input().split()))\n",
    "shoes=Counter(s)\n",
    "N=int(input())\n",
    "c=0\n",
    "\n",
    "for i in range(N):\n",
    "    size, price=map(int,input().split())\n",
    "    if shoes[size]:\n",
    "        c+=price\n",
    "        shoes[size]-=1\n",
    "print(c)"
   ]
  },
  {
   "cell_type": "markdown",
   "id": "7bc7993c",
   "metadata": {},
   "source": [
    "### Exercise 2: DefaultDict Tutorial\n",
    "I used the solutions to write the code."
   ]
  },
  {
   "cell_type": "code",
   "execution_count": null,
   "id": "b14ce1d7",
   "metadata": {},
   "outputs": [],
   "source": [
    "from collections import defaultdict\n",
    "\n",
    "d=defaultdict(list)\n",
    "n,m=map(int,input().split())\n",
    "\n",
    "for i in range (n):\n",
    "    d[input()].append(i+1)\n",
    "for i in range (m):\n",
    "    print(*d[input()] or [-1])"
   ]
  },
  {
   "cell_type": "markdown",
   "id": "176a949d",
   "metadata": {},
   "source": [
    "### Exercise 3: Collections.namedtuple()"
   ]
  },
  {
   "cell_type": "code",
   "execution_count": null,
   "id": "a28d7a3e",
   "metadata": {},
   "outputs": [],
   "source": [
    "from collections import namedtuple\n",
    "\n",
    "n=int(input())\n",
    "fields=input().split()\n",
    "total=0\n",
    "for i in range(n):\n",
    "    students=namedtuple('student',fields)\n",
    "    MARKS, CLASS, NAME, ID=input().split()\n",
    "    student=students(MARKS,CLASS,NAME,ID)\n",
    "    total += int(student.MARKS)\n",
    "print('{:.2f}'.format(total/n))"
   ]
  },
  {
   "cell_type": "markdown",
   "id": "83ce8ae3",
   "metadata": {},
   "source": [
    "### Exercise 4: Collections.OrderedDict()\n",
    "I used the solutions to write the code."
   ]
  },
  {
   "cell_type": "code",
   "execution_count": null,
   "id": "266d9864",
   "metadata": {},
   "outputs": [],
   "source": [
    "from collections import OrderedDict\n",
    "\n",
    "d=OrderedDict()\n",
    "n=int(input())\n",
    "for _ in range (n):\n",
    "    item, space, price=input().rpartition(' ')\n",
    "    d[item]=d.get(item,0)+int(price)\n",
    "for item,price in d.items():\n",
    "    print(item,price)"
   ]
  },
  {
   "cell_type": "markdown",
   "id": "ef9b67fa",
   "metadata": {},
   "source": [
    "### Exercise 5: Word Order\n",
    "I used the solutions to write the code."
   ]
  },
  {
   "cell_type": "code",
   "execution_count": null,
   "id": "b8d2fa61",
   "metadata": {},
   "outputs": [],
   "source": [
    "from collections import Counter, OrderedDict\n",
    "class OrderedCounter(Counter,OrderedDict):\n",
    "    pass\n",
    "\n",
    "n=int(input())\n",
    "word_ar=[]\n",
    "for i in range(n):\n",
    "    word_ar.append(input().strip())\n",
    "word_counter=OrderedCounter(word_ar)\n",
    "print(len(word_counter))\n",
    "for word in word_counter:\n",
    "    print(word_counter[word],end=' ')"
   ]
  },
  {
   "cell_type": "markdown",
   "id": "a2d7d910",
   "metadata": {},
   "source": [
    "### Exercise 6: Collections.deque()"
   ]
  },
  {
   "cell_type": "code",
   "execution_count": null,
   "id": "4c2bacf1",
   "metadata": {},
   "outputs": [],
   "source": [
    "from collections import deque\n",
    "\n",
    "n=int(input())\n",
    "d=deque()\n",
    "for i in range (n):\n",
    "    c=list(input().strip().split())\n",
    "    if (c[0]=='pop'):\n",
    "        d.pop()\n",
    "    elif (c[0]=='popleft'):\n",
    "        d.popleft()\n",
    "    elif (c[0]=='append'):\n",
    "        d.append(int(c[1]))\n",
    "    elif (c[0]=='appendleft'):\n",
    "        d.appendleft(int(c[1]))\n",
    "for i in d:\n",
    "    print(i,end=' ')"
   ]
  },
  {
   "cell_type": "markdown",
   "id": "9cbdbcb6",
   "metadata": {},
   "source": [
    "### Exercise 7: Company Logo"
   ]
  },
  {
   "cell_type": "code",
   "execution_count": null,
   "id": "19c35377",
   "metadata": {},
   "outputs": [],
   "source": [
    "import math\n",
    "import os\n",
    "import random\n",
    "import re\n",
    "import sys\n",
    "\n",
    "from collections import Counter\n",
    "\n",
    "if __name__ == '__main__':\n",
    "    s = input()\n",
    "    s=sorted(s)\n",
    "    frequency=Counter(list(s))\n",
    "    \n",
    "    for k,v in frequency.most_common(3):\n",
    "        print(k,v)"
   ]
  },
  {
   "cell_type": "markdown",
   "id": "a40e75f8",
   "metadata": {},
   "source": [
    "### Exercise 8: Piling Up!\n",
    "I used the solutions to write the code."
   ]
  },
  {
   "cell_type": "code",
   "execution_count": null,
   "id": "aa65519e",
   "metadata": {},
   "outputs": [],
   "source": [
    "from collections import deque\n",
    "\n",
    "def check(d):\n",
    "    while d:\n",
    "        big=d.popleft() if d[0]>d[-1] else d.pop()\n",
    "        if not d:\n",
    "            return 'Yes'\n",
    "        if d[-1]>big or d[0]>big:\n",
    "            return 'No'\n",
    "\n",
    "            \n",
    "for i in range (int(input())):\n",
    "    int(input())\n",
    "    d=deque(map(int,input().split()))\n",
    "    print(check(d))"
   ]
  },
  {
   "cell_type": "markdown",
   "id": "00401050",
   "metadata": {},
   "source": [
    "## Data and Time\n",
    "https://www.hackerrank.com/domains/python/py-date-time"
   ]
  },
  {
   "cell_type": "markdown",
   "id": "b29c5829",
   "metadata": {},
   "source": [
    "### Exercise 1: Calendar Module"
   ]
  },
  {
   "cell_type": "code",
   "execution_count": null,
   "id": "bda008c2",
   "metadata": {},
   "outputs": [],
   "source": [
    "import calendar\n",
    "\n",
    "m,d,y=map(int,input().strip().split())\n",
    "print(calendar.day_name[calendar.weekday(y,m,d)].upper())"
   ]
  },
  {
   "cell_type": "markdown",
   "id": "c91e4151",
   "metadata": {},
   "source": [
    "### Exercise 2: Time Delta\n",
    "I used the solutions to write the code."
   ]
  },
  {
   "cell_type": "code",
   "execution_count": null,
   "id": "457bbf09",
   "metadata": {},
   "outputs": [],
   "source": [
    "import math\n",
    "import os\n",
    "import random\n",
    "import re\n",
    "import sys\n",
    "\n",
    "from datetime import datetime\n",
    "\n",
    "def time_delta(t1, t2):\n",
    "    time_format='%a %d %b %Y %H:%M:%S %z'\n",
    "    t1=datetime.strptime(t1, time_format)\n",
    "    t2=datetime.strptime(t2, time_format)\n",
    "    return str(int(abs((t1-t2).total_seconds())))\n",
    "    \n",
    "if __name__ == '__main__':\n",
    "    fptr = open(os.environ['OUTPUT_PATH'], 'w')\n",
    "    t = int(input())\n",
    "    for t_itr in range(t):\n",
    "        t1 = input()\n",
    "        t2 = input()\n",
    "        delta = time_delta(t1, t2)\n",
    "        fptr.write(delta + '\\n')\n",
    "    fptr.close()"
   ]
  },
  {
   "cell_type": "markdown",
   "id": "4592d40a",
   "metadata": {},
   "source": [
    "## Exceptions\n",
    "https://www.hackerrank.com/challenges/exceptions"
   ]
  },
  {
   "cell_type": "markdown",
   "id": "2ac834d0",
   "metadata": {},
   "source": [
    "### Exercise: Exceptions"
   ]
  },
  {
   "cell_type": "code",
   "execution_count": null,
   "id": "05b716c5",
   "metadata": {},
   "outputs": [],
   "source": [
    "n=int(input())\n",
    "for i in range (n):\n",
    "    try:\n",
    "        a,b=input().split()\n",
    "        print(int(a)//int(b))\n",
    "    except ZeroDivisionError as e:\n",
    "        print(\"Error Code:\",e);\n",
    "    except ValueError as v:\n",
    "        print(\"Error Code:\",v);"
   ]
  },
  {
   "cell_type": "markdown",
   "id": "a7275436",
   "metadata": {},
   "source": [
    "## Built-ins\n",
    "https://www.hackerrank.com/challenges/zipped\n",
    "\n",
    "https://www.hackerrank.com/challenges/python-sort-sort\n",
    "\n",
    "https://www.hackerrank.com/challenges/ginorts"
   ]
  },
  {
   "cell_type": "markdown",
   "id": "23e372c4",
   "metadata": {},
   "source": [
    "### Exercise 1: Zipped!"
   ]
  },
  {
   "cell_type": "code",
   "execution_count": null,
   "id": "ec1f1656",
   "metadata": {},
   "outputs": [],
   "source": [
    "N,X=map(int,input().split())\n",
    "final_list=[]\n",
    "for i in range (X):\n",
    "    mark=map(float,input().split())\n",
    "    final_list.append(mark) \n",
    "for i in zip(*final_list):\n",
    "    print('{0:.1f}'.format(sum(i)/len(i)))"
   ]
  },
  {
   "cell_type": "markdown",
   "id": "30f0a18c",
   "metadata": {},
   "source": [
    "### Exercise 2: Athlete Sort"
   ]
  },
  {
   "cell_type": "code",
   "execution_count": null,
   "id": "79098a01",
   "metadata": {},
   "outputs": [],
   "source": [
    "import math\n",
    "import os\n",
    "import random\n",
    "import re\n",
    "import sys\n",
    "\n",
    "if __name__ == '__main__':\n",
    "    nm = input().split()\n",
    "    n = int(nm[0])\n",
    "    m = int(nm[1])\n",
    "    arr = []\n",
    "    for _ in range(n):\n",
    "        arr.append(list(map(int, input().rstrip().split())))\n",
    "    k = int(input())\n",
    "    sorted_arr=sorted(arr, key=lambda x:x[k])\n",
    "    for i in sorted_arr:\n",
    "        print (*i)"
   ]
  },
  {
   "cell_type": "markdown",
   "id": "c3fac7c1",
   "metadata": {},
   "source": [
    "### Exercise 3: ginortS"
   ]
  },
  {
   "cell_type": "code",
   "execution_count": null,
   "id": "ffbf453e",
   "metadata": {},
   "outputs": [],
   "source": [
    "n=input()\n",
    "l=[]\n",
    "u=[]\n",
    "o=[]\n",
    "e=[]\n",
    "for i in n:\n",
    "    if i.islower():\n",
    "        l.append(i)\n",
    "    elif i.isupper():\n",
    "        u.append(i)\n",
    "    elif int(i)%2!=0:\n",
    "        o.append(i)\n",
    "    elif int(i)%2==0:\n",
    "        e.append(i)\n",
    "s=sorted(l)+sorted(u)+sorted(o)+sorted(e)\n",
    "for i in s:\n",
    "    print(i,end='')"
   ]
  },
  {
   "cell_type": "markdown",
   "id": "94eb00d2",
   "metadata": {},
   "source": [
    "## Python Functionals\n",
    "https://www.hackerrank.com/challenges/map-and-lambda-expression"
   ]
  },
  {
   "cell_type": "markdown",
   "id": "25796598",
   "metadata": {},
   "source": [
    "### Exercise: Map and Lambda Function"
   ]
  },
  {
   "cell_type": "code",
   "execution_count": null,
   "id": "4d9a6596",
   "metadata": {},
   "outputs": [],
   "source": [
    "cube = lambda x: x**3\n",
    "\n",
    "def fibonacci(n):\n",
    "    l=[0,1]\n",
    "    for i in range(2,n):\n",
    "        l.append(l[i-2]+l[i-1])\n",
    "    return (l[0:n])\n",
    "\n",
    "if __name__ == '__main__':\n",
    "    n = int(input())\n",
    "    print(list(map(cube, fibonacci(n))))"
   ]
  },
  {
   "cell_type": "markdown",
   "id": "02f2ace1",
   "metadata": {},
   "source": [
    "## Regex and Parsing challenges\n",
    "https://www.hackerrank.com/domains/python/py-regex"
   ]
  },
  {
   "cell_type": "markdown",
   "id": "858c39e6",
   "metadata": {},
   "source": [
    "### Exercise 1: Detect Floating Point Number"
   ]
  },
  {
   "cell_type": "code",
   "execution_count": null,
   "id": "2e515f20",
   "metadata": {},
   "outputs": [],
   "source": [
    "from re import match,compile\n",
    "\n",
    "N=int(input())\n",
    "pattern=compile('^[-+]?[0-9]*\\.[0-9]+$')\n",
    "for _ in range (N):\n",
    "    print(bool(pattern.match(input())))"
   ]
  },
  {
   "cell_type": "markdown",
   "id": "60acae95",
   "metadata": {},
   "source": [
    "### Exercise 2: Re.split()"
   ]
  },
  {
   "cell_type": "code",
   "execution_count": null,
   "id": "68147c38",
   "metadata": {},
   "outputs": [],
   "source": [
    "regex_pattern = r\"[.,]+\"\n",
    "\n",
    "import re\n",
    "print(\"\\n\".join(re.split(regex_pattern, input())))"
   ]
  },
  {
   "cell_type": "markdown",
   "id": "4a5ce2c4",
   "metadata": {},
   "source": [
    "### Exercise 3: Group(), Groups() & Groupdict()"
   ]
  },
  {
   "cell_type": "code",
   "execution_count": null,
   "id": "5c568856",
   "metadata": {},
   "outputs": [],
   "source": [
    "import re\n",
    "\n",
    "s=input()\n",
    "res=re.search(r'([A-Za-z0-9])\\1',s)\n",
    "if res==None:\n",
    "    print(-1)\n",
    "else:\n",
    "    print(res.group(1))"
   ]
  },
  {
   "cell_type": "markdown",
   "id": "393344be",
   "metadata": {},
   "source": [
    "### Exercise 4: Re.findall() & Re.finditer()"
   ]
  },
  {
   "cell_type": "code",
   "execution_count": null,
   "id": "dfcbfa70",
   "metadata": {},
   "outputs": [],
   "source": [
    "import re\n",
    "\n",
    "s=input()\n",
    "result=re.findall(r'(?<=[BCDFGHJKLMNPQRSTVWXYZbcdfghjklmnpqrstvwxyz])([AEIOUaeiou]{2,})(?=[BCDFGHJKLMNPQRSTVWXYZbcdfghjklmnpqrstvwxyz])',s)\n",
    "if result:\n",
    "    for i in result:\n",
    "        print(i)\n",
    "else:\n",
    "    print(-1)"
   ]
  },
  {
   "cell_type": "markdown",
   "id": "149accba",
   "metadata": {},
   "source": [
    "### Exercise 5: Re.start() & Re.end()"
   ]
  },
  {
   "cell_type": "code",
   "execution_count": null,
   "id": "c6836064",
   "metadata": {},
   "outputs": [],
   "source": [
    "import re\n",
    "\n",
    "s=input()\n",
    "sub=input()\n",
    "pattern=re.compile(sub)\n",
    "match=pattern.search(s)\n",
    "if not match:\n",
    "    print((-1,-1))\n",
    "while match:\n",
    "    print(\"({0}, {1})\".format(match.start(),match.end()-1))\n",
    "    match=pattern.search(s,match.start()+1)"
   ]
  },
  {
   "cell_type": "markdown",
   "id": "0f7c2cd4",
   "metadata": {},
   "source": [
    "### Exercise 6: Regex Substitution"
   ]
  },
  {
   "cell_type": "code",
   "execution_count": null,
   "id": "e1e91e41",
   "metadata": {},
   "outputs": [],
   "source": [
    "import re\n",
    "\n",
    "N=int(input())\n",
    "for i in range (N):\n",
    "    pattern1=re.compile(r'(?<= )(&&)(?= )')\n",
    "    pattern2=re.compile(r'(?<= )(\\|\\|)(?= )')\n",
    "    print(pattern2.sub('or',pattern1.sub('and',input())))"
   ]
  },
  {
   "cell_type": "markdown",
   "id": "3ccaea71",
   "metadata": {},
   "source": [
    "### Exercise 7: Validating Roman Numerals"
   ]
  },
  {
   "cell_type": "code",
   "execution_count": null,
   "id": "f61d60d1",
   "metadata": {},
   "outputs": [],
   "source": [
    "regex_pattern = r\"^M{0,3}(CM|CD|D?C{0,3})(XC|XL|L?X{0,3})(IX|IV|V?I{0,3})$\" \n",
    "\n",
    "import re\n",
    "print(str(bool(re.match(regex_pattern, input()))))"
   ]
  },
  {
   "cell_type": "markdown",
   "id": "77dfad12",
   "metadata": {},
   "source": [
    "### Exercise 8: Validanting phone numbers"
   ]
  },
  {
   "cell_type": "code",
   "execution_count": null,
   "id": "78b81226",
   "metadata": {},
   "outputs": [],
   "source": [
    "import re\n",
    "\n",
    "N=int(input())\n",
    "for _ in range (N):\n",
    "    number=input()\n",
    "    condition=re.compile('^[7-9]\\d{9}$')\n",
    "    if re.match(condition,number):\n",
    "        print(\"YES\")\n",
    "    else:\n",
    "        print(\"NO\")"
   ]
  },
  {
   "cell_type": "markdown",
   "id": "bc42cee2",
   "metadata": {},
   "source": [
    "### Exercise 9: Validating and Parsing Email Addresses"
   ]
  },
  {
   "cell_type": "code",
   "execution_count": null,
   "id": "c4eb7e00",
   "metadata": {},
   "outputs": [],
   "source": [
    "import re\n",
    "\n",
    "n=int(input())\n",
    "pattern=r'<[A-Za-z](\\w|-|\\.|_)+@[A-Za-z]+\\.[A-Za-z]{1,3}>$'\n",
    "for i in range (n):\n",
    "    name,email=input().split()\n",
    "    if re.match(pattern,email):\n",
    "        print(name, email)"
   ]
  },
  {
   "cell_type": "markdown",
   "id": "7de657eb",
   "metadata": {},
   "source": [
    "### Exercise 10: Hex Color Code"
   ]
  },
  {
   "cell_type": "code",
   "execution_count": null,
   "id": "8ad7751b",
   "metadata": {},
   "outputs": [],
   "source": [
    "import re\n",
    "\n",
    "n=int(input())\n",
    "for i in range (n):\n",
    "    color=input()\n",
    "    match=re.findall(r'(#[0-9A-Fa-f]{3}|#[0-9A-Fa-f]{6})(?:[;,.)]{1})',color)\n",
    "    for j in match:\n",
    "        if j != '':\n",
    "            print(j)"
   ]
  },
  {
   "cell_type": "markdown",
   "id": "53111e36",
   "metadata": {},
   "source": [
    "### Exercise 11: HTML Parser - Part 1\n",
    "I used the solutions to write the code."
   ]
  },
  {
   "cell_type": "code",
   "execution_count": null,
   "id": "93e9a49d",
   "metadata": {},
   "outputs": [],
   "source": [
    "from html.parser import HTMLParser\n",
    "\n",
    "class MyHTMLParser(HTMLParser):\n",
    "    def handle_starttag(self, tag, attrs):\n",
    "        print ('Start :', tag)\n",
    "        for ele in attrs:\n",
    "            print ('->',ele[0],'>',ele[1])\n",
    "            \n",
    "    def handle_endtag(self, tag):\n",
    "        print ('End   :',tag)\n",
    "        \n",
    "    def handle_startendtag(self, tag, attrs):\n",
    "        print ('Empty :',tag)\n",
    "        for ele in attrs:\n",
    "            print ('->',ele[0],'>',ele[1])\n",
    "            \n",
    "MyParser=MyHTMLParser()\n",
    "MyParser.feed(''.join([input().strip() for _ in range(int(input()))]))"
   ]
  },
  {
   "cell_type": "markdown",
   "id": "31809acb",
   "metadata": {},
   "source": [
    "### Exercise 12: HTML Parser - Part 2\n",
    "I used the solutions to write the code."
   ]
  },
  {
   "cell_type": "code",
   "execution_count": null,
   "id": "b7280dee",
   "metadata": {},
   "outputs": [],
   "source": [
    "from html.parser import HTMLParser\n",
    "\n",
    "class MyHTMLParser(HTMLParser):\n",
    "    def handle_comment(self, comment):\n",
    "        if '\\n' in comment:\n",
    "            print('>>> Multi-line Comment')\n",
    "        else:\n",
    "            print('>>> Single-line Comment')\n",
    "        print(comment)\n",
    "        \n",
    "    def handle_data(self, data):\n",
    "        if data=='\\n':\n",
    "            return\n",
    "        print('>>> Data')\n",
    "        print(data)\n",
    "  \n",
    "html = \"\"       \n",
    "for i in range(int(input())):\n",
    "    html += input().rstrip()\n",
    "    html += '\\n'\n",
    "    \n",
    "parser = MyHTMLParser()\n",
    "parser.feed(html)\n",
    "parser.close()"
   ]
  },
  {
   "cell_type": "markdown",
   "id": "7608c60e",
   "metadata": {},
   "source": [
    "### Exercise 13: Detect HTML Tags, Attributes and Attribute Values\n",
    "I used the solutions to write the code."
   ]
  },
  {
   "cell_type": "code",
   "execution_count": null,
   "id": "fd4ff98e",
   "metadata": {},
   "outputs": [],
   "source": [
    "from html.parser import HTMLParser\n",
    "\n",
    "class MyHTMLParser(HTMLParser):\n",
    "    def handle_starttag(self, tag, attrs):\n",
    "        print(tag)\n",
    "        for attr in attrs:\n",
    "            print('->', attr[0], '>', attr[1])\n",
    "            \n",
    "n=int(input())\n",
    "s=''\n",
    "for i in range (n):\n",
    "    s+=input()\n",
    "new=MyHTMLParser()\n",
    "new.feed(s)"
   ]
  },
  {
   "cell_type": "markdown",
   "id": "6cabf841",
   "metadata": {},
   "source": [
    "### Exercise 14: Validating UID"
   ]
  },
  {
   "cell_type": "code",
   "execution_count": null,
   "id": "b92b25de",
   "metadata": {},
   "outputs": [],
   "source": [
    "import re\n",
    "\n",
    "n=int(input())\n",
    "for i in range(n):\n",
    "    uid=input()\n",
    "    uid=''.join(sorted(uid))\n",
    "    if (re.search(r'[A-Z]{2}',uid) and re.search(r'\\d{3}',uid) and not re.search(r'[^A-Za-z0-9]',uid) and not re.search(r'(\\w)\\1',uid) and len(uid)==10):\n",
    "        print('Valid')\n",
    "    else:\n",
    "        print('Invalid')\n",
    "    "
   ]
  },
  {
   "cell_type": "markdown",
   "id": "c3fc1478",
   "metadata": {},
   "source": [
    "### Exercise 15: Validanting Credit Card Numbers"
   ]
  },
  {
   "cell_type": "code",
   "execution_count": null,
   "id": "58fe2ae0",
   "metadata": {},
   "outputs": [],
   "source": [
    "import re\n",
    "\n",
    "n=int(input())\n",
    "for i in range (n):\n",
    "    credit=input().strip()\n",
    "    credit2=credit.replace('-','')\n",
    "    valid=True\n",
    "    lenght_16=bool(re.match(r'^[4-6]\\d{15}$',credit))\n",
    "    lenght_19=bool(re.match(r'^[4-6]\\d{3}-\\d{4}-\\d{4}-\\d{4}$',credit))\n",
    "    consecutive=bool(re.findall(r'(?=(\\d)\\1\\1\\1)',credit2))\n",
    "    if lenght_16==True or lenght_19==True:\n",
    "        if consecutive==True:\n",
    "            valid=False\n",
    "    else:\n",
    "        valid=False\n",
    "    if valid==True:\n",
    "        print('Valid')\n",
    "    else:\n",
    "        print('Invalid')"
   ]
  },
  {
   "cell_type": "markdown",
   "id": "2b3efdc0",
   "metadata": {},
   "source": [
    "### Exercise 16: Validating Postal Codes"
   ]
  },
  {
   "cell_type": "code",
   "execution_count": null,
   "id": "31855948",
   "metadata": {},
   "outputs": [],
   "source": [
    "regex_integer_in_range = r\"^[1-9][\\d]{5}$\"\n",
    "regex_alternating_repetitive_digit_pair = r\"(\\d)(?=\\d\\1)\"\n",
    "\n",
    "import re\n",
    "P = input()\n",
    "\n",
    "print (bool(re.match(regex_integer_in_range, P)) \n",
    "and len(re.findall(regex_alternating_repetitive_digit_pair, P)) < 2)"
   ]
  },
  {
   "cell_type": "markdown",
   "id": "d650673f",
   "metadata": {},
   "source": [
    "### Exercise 17: Matrix Script"
   ]
  },
  {
   "cell_type": "code",
   "execution_count": null,
   "id": "3ea28b43",
   "metadata": {},
   "outputs": [],
   "source": [
    "import math\n",
    "import os\n",
    "import random\n",
    "import re\n",
    "import sys\n",
    "\n",
    "first_multiple_input = input().rstrip().split()\n",
    "n = int(first_multiple_input[0])\n",
    "m = int(first_multiple_input[1])\n",
    "matrix = []\n",
    "for _ in range(n):\n",
    "    matrix_item = input()\n",
    "    matrix.append(matrix_item)\n",
    "decoded_message=\"\"\n",
    "for column in range (m):\n",
    "    for row in range (n):\n",
    "        decoded_message+=matrix[row][column]\n",
    "print(re.sub(r'(?<=\\w)([^\\w]+)(?=\\w)', \" \", decoded_message))"
   ]
  },
  {
   "cell_type": "markdown",
   "id": "112738b7",
   "metadata": {},
   "source": [
    "## XML\n",
    "https://www.hackerrank.com/domains/python/xml"
   ]
  },
  {
   "cell_type": "markdown",
   "id": "bddc3712",
   "metadata": {},
   "source": [
    "### Exercise 1: XML 1 - Find the Score\n",
    "I used the solutions to write the code."
   ]
  },
  {
   "cell_type": "code",
   "execution_count": null,
   "id": "92c4ea7d",
   "metadata": {},
   "outputs": [],
   "source": [
    "import sys\n",
    "import xml.etree.ElementTree as etree\n",
    "\n",
    "def get_attr_number(node):\n",
    "    count=0\n",
    "    for tag in node:\n",
    "        count=count+get_attr_number(tag)\n",
    "    return count+len(node.attrib)\n",
    "\n",
    "if __name__ == '__main__':\n",
    "    sys.stdin.readline()\n",
    "    xml = sys.stdin.read()\n",
    "    tree = etree.ElementTree(etree.fromstring(xml))\n",
    "    root = tree.getroot()\n",
    "    print(get_attr_number(root))"
   ]
  },
  {
   "cell_type": "markdown",
   "id": "50bbe49c",
   "metadata": {},
   "source": [
    "### Exercise 2: XML 2 - Find the Maximum Depth\n",
    "I used the solutons to write the code."
   ]
  },
  {
   "cell_type": "code",
   "execution_count": null,
   "id": "f8c1b2ff",
   "metadata": {},
   "outputs": [],
   "source": [
    "import xml.etree.ElementTree as etree\n",
    "\n",
    "maxdepth = 0\n",
    "def depth(elem, level):\n",
    "    global maxdepth\n",
    "    if(level==maxdepth):\n",
    "        maxdepth+=1\n",
    "    for child in elem:\n",
    "        depth(child,level+1)\n",
    "    \n",
    "if __name__ == '__main__':\n",
    "    n = int(input())\n",
    "    xml = \"\"\n",
    "    for i in range(n):\n",
    "        xml =  xml + input() + \"\\n\"\n",
    "    tree = etree.ElementTree(etree.fromstring(xml))\n",
    "    depth(tree.getroot(), -1)\n",
    "    print(maxdepth)"
   ]
  },
  {
   "cell_type": "markdown",
   "id": "ed377f10",
   "metadata": {},
   "source": [
    "## Closures and Decorations\n",
    "https://www.hackerrank.com/domains/python/closures-and-decorators"
   ]
  },
  {
   "cell_type": "markdown",
   "id": "849a4685",
   "metadata": {},
   "source": [
    "### Exercise 1: Standardize Mobile Number Using Decorators"
   ]
  },
  {
   "cell_type": "code",
   "execution_count": null,
   "id": "8891c95c",
   "metadata": {},
   "outputs": [],
   "source": [
    "def wrapper(f):\n",
    "    def fun(l):\n",
    "        f('+91 '+i[-10:-5]+' '+i[-5:] for i in l)\n",
    "    return fun\n",
    "\n",
    "@wrapper\n",
    "def sort_phone(l):\n",
    "    print(*sorted(l), sep='\\n')\n",
    "\n",
    "if __name__ == '__main__':\n",
    "    l = [input() for _ in range(int(input()))]\n",
    "    sort_phone(l) "
   ]
  },
  {
   "cell_type": "markdown",
   "id": "10503c98",
   "metadata": {},
   "source": [
    "### Exercise 2: Decorators 2 - Name Directory"
   ]
  },
  {
   "cell_type": "code",
   "execution_count": null,
   "id": "21af0857",
   "metadata": {},
   "outputs": [],
   "source": [
    "import operator\n",
    "\n",
    "def person_lister(f):\n",
    "    def inner(people):\n",
    "        return(f(p) for p in sorted(people, key=lambda x:(int(x[2]))))\n",
    "    return inner\n",
    "\n",
    "@person_lister\n",
    "def name_format(person):\n",
    "    return (\"Mr. \" if person[3] == \"M\" else \"Ms. \") + person[0] + \" \" + person[1]\n",
    "\n",
    "if __name__ == '__main__':\n",
    "    people = [input().split() for i in range(int(input()))]\n",
    "    print(*name_format(people), sep='\\n')"
   ]
  },
  {
   "cell_type": "markdown",
   "id": "7da4b228",
   "metadata": {},
   "source": [
    "## Numpy\n",
    "https://www.hackerrank.com/domains/python/numpy"
   ]
  },
  {
   "cell_type": "markdown",
   "id": "41a8db2d",
   "metadata": {},
   "source": [
    "### Exercise 1: Arrays"
   ]
  },
  {
   "cell_type": "code",
   "execution_count": null,
   "id": "ea552789",
   "metadata": {},
   "outputs": [],
   "source": [
    "import numpy\n",
    "\n",
    "def arrays(arr):\n",
    "    return (numpy.array(arr[::-1],float))\n",
    "\n",
    "arr = input().strip().split(' ')\n",
    "result = arrays(arr)\n",
    "print(result)"
   ]
  },
  {
   "cell_type": "markdown",
   "id": "19bf9b22",
   "metadata": {},
   "source": [
    "### Exercise 2: Shape and Reshape"
   ]
  },
  {
   "cell_type": "code",
   "execution_count": null,
   "id": "69624006",
   "metadata": {},
   "outputs": [],
   "source": [
    "import numpy\n",
    "\n",
    "n=list(map(int,input().split()))\n",
    "arr=numpy.array(n)\n",
    "arr.shape=(3,3)\n",
    "print(arr)\n"
   ]
  },
  {
   "cell_type": "markdown",
   "id": "4fe6a91b",
   "metadata": {},
   "source": [
    "### Exercise 3: Transposemand Flatten"
   ]
  },
  {
   "cell_type": "code",
   "execution_count": null,
   "id": "b14e6102",
   "metadata": {},
   "outputs": [],
   "source": [
    "import numpy\n",
    "\n",
    "n,m=map(int,input().split())\n",
    "arr=[]\n",
    "for i in range (n):\n",
    "    row=list(map(int,input().split()))\n",
    "    arr.append(row)\n",
    "    \n",
    "ar=numpy.array(arr)\n",
    "print(numpy.transpose(ar))\n",
    "print(ar.flatten())"
   ]
  },
  {
   "cell_type": "markdown",
   "id": "d12d6efc",
   "metadata": {},
   "source": [
    "### Exercise 4: Concatenate"
   ]
  },
  {
   "cell_type": "code",
   "execution_count": null,
   "id": "3504a6e2",
   "metadata": {},
   "outputs": [],
   "source": [
    "import numpy\n",
    "\n",
    "n,m,p=map(int,input().split())\n",
    "arr1=[]\n",
    "arr2=[]\n",
    "for i in range (n):\n",
    "    tmp1=list(map(int,input().split()))\n",
    "    arr1.append(tmp1)\n",
    "for j in range (m):\n",
    "    tmp2=list(map(int,input().split()))\n",
    "    arr2.append(tmp2)\n",
    "\n",
    "ar1=numpy.array(arr1)\n",
    "ar2=numpy.array(arr2)\n",
    "print(numpy.concatenate((ar1,ar2),axis=0))"
   ]
  },
  {
   "cell_type": "markdown",
   "id": "d2df6042",
   "metadata": {},
   "source": [
    "### Exercise 5: Zeros and Ones"
   ]
  },
  {
   "cell_type": "code",
   "execution_count": null,
   "id": "7b3e5fc7",
   "metadata": {},
   "outputs": [],
   "source": [
    "import numpy\n",
    "\n",
    "arr=list(map(int,input().split()))\n",
    "a=tuple(arr)\n",
    "print(numpy.zeros(a,dtype=numpy.int))\n",
    "print(numpy.ones(a,dtype=numpy.int))"
   ]
  },
  {
   "cell_type": "markdown",
   "id": "43495339",
   "metadata": {},
   "source": [
    "### Exercise 6: Eye and Identy"
   ]
  },
  {
   "cell_type": "code",
   "execution_count": null,
   "id": "6762277a",
   "metadata": {},
   "outputs": [],
   "source": [
    "import numpy\n",
    "\n",
    "numpy.set_printoptions(legacy='1.13')\n",
    "n,m=map(int,input().split())\n",
    "print(numpy.eye(n,m,k=0))"
   ]
  },
  {
   "cell_type": "markdown",
   "id": "b7d853b5",
   "metadata": {},
   "source": [
    "### Exercise 7: Array Mathematics"
   ]
  },
  {
   "cell_type": "code",
   "execution_count": null,
   "id": "7d6e7dbb",
   "metadata": {},
   "outputs": [],
   "source": [
    "import numpy\n",
    "\n",
    "n,m=map(int,input().split())\n",
    "arr1=[]\n",
    "arr2=[]\n",
    "for i in range(n):\n",
    "    tmp1=list(map(int,input().split()))  \n",
    "    arr1.append(tmp1)\n",
    "for j in range (n):\n",
    "    tmp2=list(map(int,input().split()))\n",
    "    arr2.append(tmp2)\n",
    "    \n",
    "a=numpy.array(arr1)\n",
    "b=numpy.array(arr2)\n",
    "print(a+b)\n",
    "print(a-b)\n",
    "print(a*b)\n",
    "print(a//b)\n",
    "print(a%b)\n",
    "print(a**b)"
   ]
  },
  {
   "cell_type": "markdown",
   "id": "60238702",
   "metadata": {},
   "source": [
    "### Exercise 8: Floor, Ceil and Rint"
   ]
  },
  {
   "cell_type": "code",
   "execution_count": null,
   "id": "c300edd5",
   "metadata": {},
   "outputs": [],
   "source": [
    "import numpy\n",
    "\n",
    "numpy.set_printoptions(legacy='1.13')\n",
    "\n",
    "A=numpy.array(input().split(),float)\n",
    "print(numpy.floor(A))\n",
    "print(numpy.ceil(A))\n",
    "print(numpy.rint(A))"
   ]
  },
  {
   "cell_type": "markdown",
   "id": "ffacf495",
   "metadata": {},
   "source": [
    "### Exercise 9: Sum and Prod"
   ]
  },
  {
   "cell_type": "code",
   "execution_count": null,
   "id": "6ae82428",
   "metadata": {},
   "outputs": [],
   "source": [
    "import numpy\n",
    "\n",
    "n,m=map(int,input().split())\n",
    "arr=[]\n",
    "for i in range (n):\n",
    "    tmp=list(map(int,input().split()))\n",
    "    arr.append(tmp)\n",
    "    \n",
    "ar=numpy.array(arr)\n",
    "s=numpy.sum(ar,axis=0)\n",
    "print(numpy.prod(s))"
   ]
  },
  {
   "cell_type": "markdown",
   "id": "3df6d6c0",
   "metadata": {},
   "source": [
    "### Exercise 10: Min and Max"
   ]
  },
  {
   "cell_type": "code",
   "execution_count": null,
   "id": "5189f605",
   "metadata": {},
   "outputs": [],
   "source": [
    "import numpy\n",
    "\n",
    "n,m=map(int,input().split())\n",
    "arr=[]\n",
    "for i in range (n):\n",
    "    tmp=list(map(int,input().split()))\n",
    "    arr.append(tmp)\n",
    "    \n",
    "ar=numpy.array(arr)\n",
    "m=numpy.min(ar,axis=1)\n",
    "print(numpy.max(m))"
   ]
  },
  {
   "cell_type": "markdown",
   "id": "1c34a6d0",
   "metadata": {},
   "source": [
    "### Exericse 11: Mean, Var and Std"
   ]
  },
  {
   "cell_type": "code",
   "execution_count": null,
   "id": "91041d6f",
   "metadata": {},
   "outputs": [],
   "source": [
    "import numpy\n",
    "\n",
    "n,m=map(int,input().split())\n",
    "arr=[]\n",
    "for i in range (n):\n",
    "    tmp=list(map(int,input().split()))\n",
    "    arr.append(tmp)\n",
    "    \n",
    "ar=numpy.array(arr)\n",
    "print(numpy.mean(ar,axis=1))\n",
    "print(numpy.var(ar,axis=0))\n",
    "print(numpy.std(ar,axis = None))"
   ]
  },
  {
   "cell_type": "markdown",
   "id": "0e4349a1",
   "metadata": {},
   "source": [
    "### Exercise 12: Dot and Cross"
   ]
  },
  {
   "cell_type": "code",
   "execution_count": null,
   "id": "bb829245",
   "metadata": {},
   "outputs": [],
   "source": [
    "import numpy\n",
    "\n",
    "n=int(input())\n",
    "A=[]\n",
    "B=[]\n",
    "for i in range (n):\n",
    "    tmp1=list(map(int,input().split()))\n",
    "    A.append(tmp1)\n",
    "\n",
    "a=numpy.array(A)  \n",
    "    for i in range (n):\n",
    "    tmp2=list(map(int,input().split()))\n",
    "    B.append(tmp2)\n",
    "    \n",
    "b=numpy.array(B)\n",
    "print(numpy.dot(a,b))"
   ]
  },
  {
   "cell_type": "markdown",
   "id": "3151682c",
   "metadata": {},
   "source": [
    "### Exercise 13: Inner and Outer"
   ]
  },
  {
   "cell_type": "code",
   "execution_count": null,
   "id": "17bc30bc",
   "metadata": {},
   "outputs": [],
   "source": [
    "import numpy\n",
    "\n",
    "A=numpy.array(list(map(int,input().split())))\n",
    "B=numpy.array(list(map(int,input().split())))\n",
    "print(numpy.inner(A,B))\n",
    "print(numpy.outer(A,B))"
   ]
  },
  {
   "cell_type": "markdown",
   "id": "e7e1fc68",
   "metadata": {},
   "source": [
    "### Exercise 14: Polynomials"
   ]
  },
  {
   "cell_type": "code",
   "execution_count": null,
   "id": "ece916c8",
   "metadata": {},
   "outputs": [],
   "source": [
    "import numpy\n",
    "\n",
    "P=list(map(float,input().split()))\n",
    "p=numpy.array(P)\n",
    "x=float(input())\n",
    "print(numpy.polyval(p,x))"
   ]
  },
  {
   "cell_type": "markdown",
   "id": "7c50668c",
   "metadata": {},
   "source": [
    "### Exercise 15: Linear Algebra"
   ]
  },
  {
   "cell_type": "code",
   "execution_count": null,
   "id": "88855d87",
   "metadata": {},
   "outputs": [],
   "source": [
    "import numpy\n",
    "\n",
    "numpy.set_printoptions(legacy='1.13')\n",
    "\n",
    "n=int(input())\n",
    "a=numpy.array([input().split() for i in range (n)],float)\n",
    "print(numpy.linalg.det(a))"
   ]
  },
  {
   "cell_type": "markdown",
   "id": "3dc2d5f7",
   "metadata": {},
   "source": [
    "# Problem 2\n",
    "6 exercises completed out of 6 exercises."
   ]
  },
  {
   "cell_type": "markdown",
   "id": "f5c4a8ba",
   "metadata": {},
   "source": [
    "### Exercise 1: Birthday Cake Candles\n",
    "https://www.hackerrank.com/challenges/birthday-cake-candles"
   ]
  },
  {
   "cell_type": "code",
   "execution_count": null,
   "id": "fef17fb6",
   "metadata": {},
   "outputs": [],
   "source": [
    "import math\n",
    "import os\n",
    "import random\n",
    "import re\n",
    "import sys\n",
    "\n",
    "def birthdayCakeCandles(candles):\n",
    "    candles.sort()\n",
    "    result=candles.count(candles[len(candles)-1])\n",
    "    return result\n",
    "  \n",
    "if __name__ == '__main__':\n",
    "    fptr = open(os.environ['OUTPUT_PATH'], 'w')\n",
    "    candles_count = int(input().strip())\n",
    "    candles = list(map(int, input().rstrip().split()))\n",
    "    result = birthdayCakeCandles(candles)\n",
    "    fptr.write(str(result) + '\\n')\n",
    "    fptr.close()"
   ]
  },
  {
   "cell_type": "markdown",
   "id": "dd3f3e9b",
   "metadata": {},
   "source": [
    "### Exercise 2: Number Line Jumps\n",
    "https://www.hackerrank.com/challenges/kangaroo"
   ]
  },
  {
   "cell_type": "code",
   "execution_count": null,
   "id": "c5b55667",
   "metadata": {},
   "outputs": [],
   "source": [
    "import math\n",
    "import os\n",
    "import random\n",
    "import re\n",
    "import sys\n",
    "\n",
    "def kangaroo(x1, v1, x2, v2):\n",
    "    if x1<x2 and v1<v2:\n",
    "        return 'NO'\n",
    "    else:\n",
    "        if v1!=v2 and (x2-x1)%(v2-v1)==0:\n",
    "            return 'YES'\n",
    "        else:\n",
    "            return 'NO'\n",
    "        \n",
    "if __name__ == '__main__':\n",
    "    fptr = open(os.environ['OUTPUT_PATH'], 'w')\n",
    "    first_multiple_input = input().rstrip().split()\n",
    "    x1 = int(first_multiple_input[0])\n",
    "    v1 = int(first_multiple_input[1])\n",
    "    x2 = int(first_multiple_input[2])\n",
    "    v2 = int(first_multiple_input[3])\n",
    "    result = kangaroo(x1, v1, x2, v2)\n",
    "    fptr.write(result + '\\n')\n",
    "    fptr.close()"
   ]
  },
  {
   "cell_type": "markdown",
   "id": "46c7dd85",
   "metadata": {},
   "source": [
    "### Exercise 3: Viral Advertising\n",
    "https://www.hackerrank.com/challenges/strange-advertising"
   ]
  },
  {
   "cell_type": "code",
   "execution_count": null,
   "id": "a8c5fe59",
   "metadata": {},
   "outputs": [],
   "source": [
    "import math\n",
    "import os\n",
    "import random\n",
    "import re\n",
    "import sys\n",
    "\n",
    "def viralAdvertising(n):\n",
    "    a=5\n",
    "    b=0\n",
    "    for i in range (1,n+1):\n",
    "        b+=a//2\n",
    "        a=a//2*3\n",
    "    return b\n",
    "    \n",
    "if __name__ == '__main__':\n",
    "    fptr = open(os.environ['OUTPUT_PATH'], 'w')\n",
    "    n = int(input().strip())\n",
    "    result = viralAdvertising(n)\n",
    "    fptr.write(str(result) + '\\n')\n",
    "    fptr.close()"
   ]
  },
  {
   "cell_type": "markdown",
   "id": "349e7354",
   "metadata": {},
   "source": [
    "### Exercise 4: Recursive Digit Sum\n",
    "https://www.hackerrank.com/challenges/recursive-digit-sum"
   ]
  },
  {
   "cell_type": "code",
   "execution_count": null,
   "id": "2428e7f0",
   "metadata": {},
   "outputs": [],
   "source": [
    "import math\n",
    "import os\n",
    "import random\n",
    "import re\n",
    "import sys\n",
    "\n",
    "def superDigit(n, k):\n",
    "    s=str(k*sum([int(x) for x in n]))\n",
    "    return digitSum(s)\n",
    "\n",
    "def digitSum(n):\n",
    "    if len(n)==1:\n",
    "        return int(n)\n",
    "    else:\n",
    "        s=str(sum([int(x) for x in n]))\n",
    "        return digitSum(s) \n",
    "\n",
    "if __name__ == '__main__':\n",
    "    fptr = open(os.environ['OUTPUT_PATH'], 'w')\n",
    "    first_multiple_input = input().rstrip().split()\n",
    "    n = first_multiple_input[0]\n",
    "    k = int(first_multiple_input[1])\n",
    "    result = superDigit(n, k)\n",
    "    fptr.write(str(result) + '\\n')\n",
    "    fptr.close()"
   ]
  },
  {
   "cell_type": "markdown",
   "id": "e8c272d6",
   "metadata": {},
   "source": [
    "### Exercise 5: Insertion Sort - Part 1\n",
    "https://www.hackerrank.com/challenges/insertionsort1"
   ]
  },
  {
   "cell_type": "code",
   "execution_count": null,
   "id": "07d385ac",
   "metadata": {},
   "outputs": [],
   "source": [
    "import math\n",
    "import os\n",
    "import random\n",
    "import re\n",
    "import sys\n",
    "\n",
    "def insertionSort1(n, arr):\n",
    "    i=arr[-1]\n",
    "    for j in range (len(arr)-2,-1,-1):\n",
    "        if arr[j]>i:\n",
    "            arr[j+1]=arr[j]\n",
    "            print(*arr)\n",
    "        else:\n",
    "            arr[j+1]=i\n",
    "            print(*arr)\n",
    "            break\n",
    "    if arr[0]>i:\n",
    "        arr[0]=i\n",
    "        print(*arr)\n",
    "        \n",
    "if __name__ == '__main__':\n",
    "    n = int(input().strip())\n",
    "    arr = list(map(int, input().rstrip().split()))\n",
    "    insertionSort1(n, arr)"
   ]
  },
  {
   "cell_type": "markdown",
   "id": "a78a1dfd",
   "metadata": {},
   "source": [
    "### Exercise 6: Insertion Sort - Part 2\n",
    "https://www.hackerrank.com/challenges/insertionsort2"
   ]
  },
  {
   "cell_type": "code",
   "execution_count": null,
   "id": "59218d19",
   "metadata": {},
   "outputs": [],
   "source": [
    "import math\n",
    "import os\n",
    "import random\n",
    "import re\n",
    "import sys\n",
    "\n",
    "def insertionSort2(n, arr):\n",
    "    n=n-1\n",
    "    i=arr[n]\n",
    "    for i in range (1,n):\n",
    "        i=arr[n]\n",
    "        while n>0:\n",
    "            if i>arr[n-1]:\n",
    "                arr[n]=i\n",
    "                print(*arr)\n",
    "                break\n",
    "            else:\n",
    "                arr[n]=arr[n-1]\n",
    "            n-=1\n",
    "        else:\n",
    "            arr[0]=i\n",
    "            print(*arr)\n",
    "            \n",
    "if __name__ == '__main__':\n",
    "    n = int(input().strip())\n",
    "    arr = list(map(int, input().rstrip().split()))\n",
    "    insertionSort2(n, arr)"
   ]
  }
 ],
 "metadata": {
  "kernelspec": {
   "display_name": "Python 3",
   "language": "python",
   "name": "python3"
  },
  "language_info": {
   "codemirror_mode": {
    "name": "ipython",
    "version": 3
   },
   "file_extension": ".py",
   "mimetype": "text/x-python",
   "name": "python",
   "nbconvert_exporter": "python",
   "pygments_lexer": "ipython3",
   "version": "3.8.8"
  }
 },
 "nbformat": 4,
 "nbformat_minor": 5
}
